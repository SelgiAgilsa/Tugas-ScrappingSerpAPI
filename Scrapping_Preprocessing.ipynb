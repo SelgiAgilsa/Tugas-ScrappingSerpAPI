{
  "nbformat": 4,
  "nbformat_minor": 0,
  "metadata": {
    "colab": {
      "provenance": []
    },
    "kernelspec": {
      "name": "python3",
      "display_name": "Python 3"
    },
    "language_info": {
      "name": "python"
    }
  },
  "cells": [
    {
      "cell_type": "code",
      "execution_count": null,
      "metadata": {
        "id": "Uc2mPEKp4ekk"
      },
      "outputs": [],
      "source": [
        "pip install google-search-results"
      ]
    },
    {
      "cell_type": "code",
      "source": [
        "from serpapi import GoogleSearch\n",
        "params = {\n",
        "  \"engine\": \"google_maps\",\n",
        "  \"q\": \"seafood\",\n",
        "  \"ll\": \"@-6.9858634,110.4143039,15z\",\n",
        "  \"type\": \"search\",\n",
        "  \"api_key\": \"6f05e5ec5ce56e0fb8fba0512cfd883aaab66a5aad2bfa533ab36357e84e1f02\"\n",
        "}\n",
        "search = GoogleSearch(params)\n",
        "results = search.get_dict()\n",
        "local_results = results[\"local_results\"]"
      ],
      "metadata": {
        "id": "vlN6ArK94tbF"
      },
      "execution_count": null,
      "outputs": []
    },
    {
      "cell_type": "code",
      "source": [
        "local_results"
      ],
      "metadata": {
        "id": "guQSDL2i5Kpc"
      },
      "execution_count": null,
      "outputs": []
    },
    {
      "cell_type": "code",
      "source": [
        "#1\n",
        "from serpapi import GoogleSearch\n",
        "params = {\n",
        "  \"engine\": \"google_maps_reviews\",\n",
        "  \"data_id\": \"0x2e708b65dbb245b1:0x103f66b6b46352c9\",\n",
        "  \"api_key\": \"6f05e5ec5ce56e0fb8fba0512cfd883aaab66a5aad2bfa533ab36357e84e1f02\"\n",
        "}\n",
        "search = GoogleSearch(params)\n",
        "results = search.get_dict()\n",
        "reviews = results[\"reviews\"][1][\"snippet\"]"
      ],
      "metadata": {
        "id": "q4AhNkBM6kCS"
      },
      "execution_count": null,
      "outputs": []
    },
    {
      "cell_type": "code",
      "source": [
        "results"
      ],
      "metadata": {
        "id": "x4D_c-PK8Gl2"
      },
      "execution_count": null,
      "outputs": []
    },
    {
      "cell_type": "code",
      "source": [
        "for i in range(10):\n",
        "  rating = results [\"reviews\"][i][\"rating\"]\n",
        "  print(rating)\n",
        "  reviews = results [\"reviews\"][i][\"snippet\"]\n",
        "  print(reviews)"
      ],
      "metadata": {
        "id": "QZlHRyB89NPM"
      },
      "execution_count": null,
      "outputs": []
    },
    {
      "cell_type": "code",
      "source": [
        "#2\n",
        "from serpapi import GoogleSearch\n",
        "params = {\n",
        "  \"engine\": \"google_maps_reviews\",\n",
        "  \"data_id\": \"0x2e70f35155cf271b:0xa332a964871467df\",\n",
        "  \"api_key\": \"6f05e5ec5ce56e0fb8fba0512cfd883aaab66a5aad2bfa533ab36357e84e1f02\"\n",
        "}\n",
        "search = GoogleSearch(params)\n",
        "results = search.get_dict()\n",
        "reviews = results[\"reviews\"][1][\"snippet\"]"
      ],
      "metadata": {
        "id": "PywaFnk6kHgq"
      },
      "execution_count": null,
      "outputs": []
    },
    {
      "cell_type": "code",
      "source": [
        "results"
      ],
      "metadata": {
        "id": "Vx-vWY9HkiYJ"
      },
      "execution_count": null,
      "outputs": []
    },
    {
      "cell_type": "code",
      "source": [
        "for i in range(10):\n",
        "  rating = results [\"reviews\"][i][\"rating\"]\n",
        "  print(rating)\n",
        "  reviews = results [\"reviews\"][i][\"snippet\"]\n",
        "  print(reviews)"
      ],
      "metadata": {
        "id": "cazHWeGtknVr"
      },
      "execution_count": null,
      "outputs": []
    },
    {
      "cell_type": "code",
      "source": [
        "#3\n",
        "from serpapi import GoogleSearch\n",
        "params = {\n",
        "  \"engine\": \"google_maps_reviews\",\n",
        "  \"data_id\": \"0x2e708b52fbb8f8cb:0xf3619b2663879b1d\",\n",
        "  \"api_key\": \"6f05e5ec5ce56e0fb8fba0512cfd883aaab66a5aad2bfa533ab36357e84e1f02\"\n",
        "}\n",
        "search = GoogleSearch(params)\n",
        "results = search.get_dict()\n",
        "reviews = results[\"reviews\"][1][\"snippet\"]"
      ],
      "metadata": {
        "id": "hs4Et9SdlAzs"
      },
      "execution_count": null,
      "outputs": []
    },
    {
      "cell_type": "code",
      "source": [
        "results"
      ],
      "metadata": {
        "id": "qdD8o-tNlOP-"
      },
      "execution_count": null,
      "outputs": []
    },
    {
      "cell_type": "code",
      "source": [
        "for i in range(10):\n",
        "  rating = results [\"reviews\"][i][\"rating\"]\n",
        "  print(rating)\n",
        "  reviews = results [\"reviews\"][i][\"snippet\"]\n",
        "  print(reviews)"
      ],
      "metadata": {
        "id": "CG5ghfoqlYL0"
      },
      "execution_count": null,
      "outputs": []
    },
    {
      "cell_type": "code",
      "source": [
        "#4\n",
        "from serpapi import GoogleSearch\n",
        "params = {\n",
        "  \"engine\": \"google_maps_reviews\",\n",
        "  \"data_id\": \"0x2e708b7b086b1611:0x69aeb4e2405ca6cb\",\n",
        "  \"api_key\": \"6f05e5ec5ce56e0fb8fba0512cfd883aaab66a5aad2bfa533ab36357e84e1f02\"\n",
        "}\n",
        "search = GoogleSearch(params)\n",
        "results = search.get_dict()\n",
        "reviews = results[\"reviews\"][1][\"snippet\"]"
      ],
      "metadata": {
        "id": "bCLN8qjqm45Q"
      },
      "execution_count": null,
      "outputs": []
    },
    {
      "cell_type": "code",
      "source": [
        "results"
      ],
      "metadata": {
        "id": "MuhTdOnnnThd"
      },
      "execution_count": null,
      "outputs": []
    },
    {
      "cell_type": "code",
      "source": [
        "for i in range(10):\n",
        "  rating = results [\"reviews\"][i][\"rating\"]\n",
        "  print(rating)\n",
        "  reviews = results [\"reviews\"][i][\"snippet\"]\n",
        "  print(reviews)"
      ],
      "metadata": {
        "id": "O4BNO5zYnWLi"
      },
      "execution_count": null,
      "outputs": []
    },
    {
      "cell_type": "code",
      "source": [
        "#5\n",
        "from serpapi import GoogleSearch\n",
        "params = {\n",
        "  \"engine\": \"google_maps_reviews\",\n",
        "  \"data_id\": \"0x2e708b4b478a2ca9:0x788f2ce3e8601338\",\n",
        "  \"api_key\": \"6f05e5ec5ce56e0fb8fba0512cfd883aaab66a5aad2bfa533ab36357e84e1f02\"\n",
        "}\n",
        "search = GoogleSearch(params)\n",
        "results = search.get_dict()\n",
        "reviews = results[\"reviews\"][1][\"snippet\"]"
      ],
      "metadata": {
        "id": "LvPDPscnnptz"
      },
      "execution_count": null,
      "outputs": []
    },
    {
      "cell_type": "code",
      "source": [
        "results"
      ],
      "metadata": {
        "id": "a-aJ92n-n3TN"
      },
      "execution_count": null,
      "outputs": []
    },
    {
      "cell_type": "code",
      "source": [
        "for i in range(10):\n",
        "  rating = results [\"reviews\"][i][\"rating\"]\n",
        "  print(rating)\n",
        "  reviews = results [\"reviews\"][i][\"snippet\"]\n",
        "  print(reviews)"
      ],
      "metadata": {
        "id": "bbdoCLeAoSsb"
      },
      "execution_count": null,
      "outputs": []
    },
    {
      "cell_type": "code",
      "source": [
        "#6\n",
        "from serpapi import GoogleSearch\n",
        "params = {\n",
        "  \"engine\": \"google_maps_reviews\",\n",
        "  \"data_id\": \"0x2e708be591cbc467:0xe11969f813f6fdca\",\n",
        "  \"api_key\": \"6f05e5ec5ce56e0fb8fba0512cfd883aaab66a5aad2bfa533ab36357e84e1f02\"\n",
        "}\n",
        "search = GoogleSearch(params)\n",
        "results = search.get_dict()\n",
        "reviews = results[\"reviews\"][1][\"snippet\"]"
      ],
      "metadata": {
        "id": "UUEBw-yvpSxS"
      },
      "execution_count": null,
      "outputs": []
    },
    {
      "cell_type": "code",
      "source": [
        "results"
      ],
      "metadata": {
        "id": "pSimqpaXpqEy"
      },
      "execution_count": null,
      "outputs": []
    },
    {
      "cell_type": "code",
      "source": [
        "for i in range(10):\n",
        "  rating = results [\"reviews\"][i][\"rating\"]\n",
        "  print(rating)\n",
        "  reviews = results [\"reviews\"][i][\"snippet\"]\n",
        "  print(reviews)"
      ],
      "metadata": {
        "id": "DEJp62_RpsyB"
      },
      "execution_count": null,
      "outputs": []
    },
    {
      "cell_type": "code",
      "source": [
        "#7\n",
        "from serpapi import GoogleSearch\n",
        "params = {\n",
        "  \"engine\": \"google_maps_reviews\",\n",
        "  \"data_id\": \"0x2e708b60ed5934b7:0x768c954d9327fc91\",\n",
        "  \"api_key\": \"6f05e5ec5ce56e0fb8fba0512cfd883aaab66a5aad2bfa533ab36357e84e1f02\"\n",
        "}\n",
        "search = GoogleSearch(params)\n",
        "results = search.get_dict()\n",
        "reviews = results[\"reviews\"][1][\"snippet\"]"
      ],
      "metadata": {
        "id": "IbLBPTZGqESl"
      },
      "execution_count": null,
      "outputs": []
    },
    {
      "cell_type": "code",
      "source": [
        "results"
      ],
      "metadata": {
        "id": "HnJzFRxwqcu5"
      },
      "execution_count": null,
      "outputs": []
    },
    {
      "cell_type": "code",
      "source": [
        "for i in range(10):\n",
        "  rating = results [\"reviews\"][i][\"rating\"]\n",
        "  print(rating)\n",
        "  reviews = results [\"reviews\"][i][\"snippet\"]\n",
        "  print(reviews)"
      ],
      "metadata": {
        "id": "9JwcyZF7qewT"
      },
      "execution_count": null,
      "outputs": []
    },
    {
      "cell_type": "code",
      "source": [
        "#8\n",
        "from serpapi import GoogleSearch\n",
        "params = {\n",
        "  \"engine\": \"google_maps_reviews\",\n",
        "  \"data_id\": \"0x2e70f355c1610aa7:0xf8c6538e7d1a2419\",\n",
        "  \"api_key\": \"6f05e5ec5ce56e0fb8fba0512cfd883aaab66a5aad2bfa533ab36357e84e1f02\"\n",
        "}\n",
        "search = GoogleSearch(params)\n",
        "results = search.get_dict()\n",
        "reviews = results[\"reviews\"][1][\"snippet\"]"
      ],
      "metadata": {
        "id": "spwB9RiKq20F"
      },
      "execution_count": null,
      "outputs": []
    },
    {
      "cell_type": "code",
      "source": [
        "results"
      ],
      "metadata": {
        "id": "SQqI7-wtrI8g"
      },
      "execution_count": null,
      "outputs": []
    },
    {
      "cell_type": "code",
      "source": [
        "for i in range(10):\n",
        "  rating = results [\"reviews\"][i][\"rating\"]\n",
        "  print(rating)\n",
        "  reviews = results [\"reviews\"][i][\"snippet\"]\n",
        "  print(reviews)"
      ],
      "metadata": {
        "id": "V6_V05f1rNZ0"
      },
      "execution_count": null,
      "outputs": []
    },
    {
      "cell_type": "code",
      "source": [
        "#9\n",
        "from serpapi import GoogleSearch\n",
        "params = {\n",
        "  \"engine\": \"google_maps_reviews\",\n",
        "  \"data_id\": \"0x2e70f5e1ff65d3a7:0x8b26c25e227177a\",\n",
        "  \"api_key\": \"6f05e5ec5ce56e0fb8fba0512cfd883aaab66a5aad2bfa533ab36357e84e1f02\"\n",
        "}\n",
        "search = GoogleSearch(params)\n",
        "results = search.get_dict()\n",
        "reviews = results[\"reviews\"][1][\"snippet\"]"
      ],
      "metadata": {
        "id": "Md8yV9S4rZ1n"
      },
      "execution_count": null,
      "outputs": []
    },
    {
      "cell_type": "code",
      "source": [
        "results"
      ],
      "metadata": {
        "id": "07beCnyhrr94"
      },
      "execution_count": null,
      "outputs": []
    },
    {
      "cell_type": "code",
      "source": [
        "for i in range(10):\n",
        "  rating = results [\"reviews\"][i][\"rating\"]\n",
        "  print(rating)\n",
        "  reviews = results [\"reviews\"][i][\"snippet\"]\n",
        "  print(reviews)"
      ],
      "metadata": {
        "id": "x37w914Cru4o"
      },
      "execution_count": null,
      "outputs": []
    },
    {
      "cell_type": "code",
      "source": [
        "#10\n",
        "from serpapi import GoogleSearch\n",
        "params = {\n",
        "  \"engine\": \"google_maps_reviews\",\n",
        "  \"data_id\": \"0x2e708b5c6690e8eb:0x26d4ecbee47ba053\",\n",
        "  \"api_key\": \"6f05e5ec5ce56e0fb8fba0512cfd883aaab66a5aad2bfa533ab36357e84e1f02\"\n",
        "}\n",
        "search = GoogleSearch(params)\n",
        "results = search.get_dict()\n",
        "reviews = results[\"reviews\"][1][\"snippet\"]"
      ],
      "metadata": {
        "id": "hLqNonPpsFKJ"
      },
      "execution_count": null,
      "outputs": []
    },
    {
      "cell_type": "code",
      "source": [
        "results"
      ],
      "metadata": {
        "id": "kYGGD7x2si9c"
      },
      "execution_count": null,
      "outputs": []
    },
    {
      "cell_type": "code",
      "source": [
        "for i in range(10):\n",
        "  rating = results [\"reviews\"][i][\"rating\"]\n",
        "  print(rating)\n",
        "  reviews = results [\"reviews\"][i][\"snippet\"]\n",
        "  print(reviews)"
      ],
      "metadata": {
        "id": "mgMV6mYwsoVd"
      },
      "execution_count": null,
      "outputs": []
    },
    {
      "cell_type": "code",
      "source": [
        "# >>>>> CASE FOLDING <<<<< #\n",
        "\n",
        "# 1. Mengubah text menjadi lowercase \n",
        "kalimat = \"5.0 AWESOME!!! The shrimp paste sauce is delicious, grilled squid, carp, shrimp penyet & grilled shrimp are super delicious\"\n",
        "lower_case = kalimat.lower()\n",
        "print(lower_case)"
      ],
      "metadata": {
        "id": "5MoJ42X00TLG",
        "colab": {
          "base_uri": "https://localhost:8080/"
        },
        "outputId": "2bbd36a1-894d-4f4c-caec-0a3e8a0883cf"
      },
      "execution_count": null,
      "outputs": [
        {
          "output_type": "stream",
          "name": "stdout",
          "text": [
            "5.0 awesome!!! the shrimp paste sauce is delicious, grilled squid, carp, shrimp penyet & grilled shrimp are super delicious\n"
          ]
        }
      ]
    },
    {
      "cell_type": "code",
      "source": [
        "# 2. Menghapus angka\n",
        "import re #impor modul regular expressio\n",
        "kalimat = \"5.0 This is the most favorite overhang seafood food. The most I recommend 1. Grilled squid 2. Shrimp Pecel (boiled / fried) If you come here, don't forget to order the chili sauce. Mak nyusssss really ... Sometimes if you are crowded you have to wait patiently But it's worthed 🤤🤤🤤🤤🤤🤤 \"\n",
        "hasil = re.sub(r\"\\d+\",\"\", kalimat)\n",
        "print (hasil)"
      ],
      "metadata": {
        "colab": {
          "base_uri": "https://localhost:8080/"
        },
        "id": "GRuNIkQbymem",
        "outputId": "428bc750-d05c-462a-d264-7230e5156621"
      },
      "execution_count": null,
      "outputs": [
        {
          "output_type": "stream",
          "name": "stdout",
          "text": [
            ". This is the most favorite overhang seafood food. The most I recommend . Grilled squid . Shrimp Pecel (boiled / fried) If you come here, don't forget to order the chili sauce. Mak nyusssss really ... Sometimes if you are crowded you have to wait patiently But it's worthed 🤤🤤🤤🤤🤤🤤 \n"
          ]
        }
      ]
    },
    {
      "cell_type": "code",
      "source": [
        "# 3. Menghapus tanda baca\n",
        "import string\n",
        "kalimat = \"5.0 The sweet and sour sauce seasoning is delicious...the fried catfish is perfect....cheap price but good quality\"\n",
        "hasil = kalimat.translate(str.maketrans(\"\",\"\",string.punctuation))\n",
        "print (hasil)"
      ],
      "metadata": {
        "colab": {
          "base_uri": "https://localhost:8080/"
        },
        "id": "DL7JrhXp2g33",
        "outputId": "356f7772-7b77-4c3b-be07-41fdf5a12abd"
      },
      "execution_count": null,
      "outputs": [
        {
          "output_type": "stream",
          "name": "stdout",
          "text": [
            "50 The sweet and sour sauce seasoning is deliciousthe fried catfish is perfectcheap price but good quality\n"
          ]
        }
      ]
    },
    {
      "cell_type": "code",
      "source": [
        "# >>>>> TOKENIZING <<<<< #\n",
        "\n",
        "import nltk\n",
        "nltk.download('book')\n",
        "#or\n",
        "nltk.download('tests')\n",
        "#or\n",
        "nltk.download('all-corpora')# not recommended as it download huge amount of data."
      ],
      "metadata": {
        "id": "p3_ZAi2v5Dax"
      },
      "execution_count": null,
      "outputs": []
    },
    {
      "cell_type": "code",
      "source": [
        "# impor word_tokenize dari modul nltk\n",
        "from nltk.tokenize import sent_tokenize, word_tokenize\n",
        "kalimat = \"5.0 It serves one of the best seafood in Semarang\"\n",
        "tokens = word_tokenize(kalimat)\n",
        "print(tokens)"
      ],
      "metadata": {
        "colab": {
          "base_uri": "https://localhost:8080/"
        },
        "id": "KWgUfV2s-Cdy",
        "outputId": "4369d2c9-eec5-4757-c7c6-9fda4ab2f3aa"
      },
      "execution_count": null,
      "outputs": [
        {
          "output_type": "stream",
          "name": "stdout",
          "text": [
            "['5.0', 'It', 'serves', 'one', 'of', 'the', 'best', 'seafood', 'in', 'Semarang']\n"
          ]
        }
      ]
    },
    {
      "cell_type": "code",
      "source": [
        "# >>>>> STOPWORD REMOVAL(FILTERING) <<<<< #\n",
        "\n",
        "# Filtering dengan sastrawi\n",
        "!pip install Sastrawi"
      ],
      "metadata": {
        "id": "b0ViMeUOEtwY"
      },
      "execution_count": null,
      "outputs": []
    },
    {
      "cell_type": "code",
      "source": [
        "# Daftar stopword yang tersedia di library Sastrawi\n",
        "from Sastrawi.StopWordRemover.StopWordRemoverFactory import StopWordRemoverFactory\n",
        "factory = StopWordRemoverFactory()\n",
        "stopwords = factory.get_stop_words()\n",
        "print(stopwords)"
      ],
      "metadata": {
        "colab": {
          "base_uri": "https://localhost:8080/"
        },
        "id": "GCQNUk0tJylg",
        "outputId": "28e3a582-860d-4de1-e6cb-681e8f1fd87e"
      },
      "execution_count": null,
      "outputs": [
        {
          "output_type": "stream",
          "name": "stdout",
          "text": [
            "['yang', 'untuk', 'pada', 'ke', 'para', 'namun', 'menurut', 'antara', 'dia', 'dua', 'ia', 'seperti', 'jika', 'jika', 'sehingga', 'kembali', 'dan', 'tidak', 'ini', 'karena', 'kepada', 'oleh', 'saat', 'harus', 'sementara', 'setelah', 'belum', 'kami', 'sekitar', 'bagi', 'serta', 'di', 'dari', 'telah', 'sebagai', 'masih', 'hal', 'ketika', 'adalah', 'itu', 'dalam', 'bisa', 'bahwa', 'atau', 'hanya', 'kita', 'dengan', 'akan', 'juga', 'ada', 'mereka', 'sudah', 'saya', 'terhadap', 'secara', 'agar', 'lain', 'anda', 'begitu', 'mengapa', 'kenapa', 'yaitu', 'yakni', 'daripada', 'itulah', 'lagi', 'maka', 'tentang', 'demi', 'dimana', 'kemana', 'pula', 'sambil', 'sebelum', 'sesudah', 'supaya', 'guna', 'kah', 'pun', 'sampai', 'sedangkan', 'selagi', 'sementara', 'tetapi', 'apakah', 'kecuali', 'sebab', 'selain', 'seolah', 'seraya', 'seterusnya', 'tanpa', 'agak', 'boleh', 'dapat', 'dsb', 'dst', 'dll', 'dahulu', 'dulunya', 'anu', 'demikian', 'tapi', 'ingin', 'juga', 'nggak', 'mari', 'nanti', 'melainkan', 'oh', 'ok', 'seharusnya', 'sebetulnya', 'setiap', 'setidaknya', 'sesuatu', 'pasti', 'saja', 'toh', 'ya', 'walau', 'tolong', 'tentu', 'amat', 'apalagi', 'bagaimanapun']\n"
          ]
        }
      ]
    },
    {
      "cell_type": "code",
      "source": [
        "# imort StopWordRemoverFactory class\n",
        "from Sastrawi.StopWordRemover.StopWordRemoverFactory import StopWordRemoverFactory\n",
        "factory = StopWordRemoverFactory()\n",
        "stopword = factory.create_stop_word_remover()\n",
        "# Kalimat\n",
        "kalimat = \"Salahsatu tempat makan olahan seafood andalan ku. Rasanya pas, paling suka sama cuminya. Pelayanan tempat makan nya juga bagus. Sesuai lah kalo dpt bintang lima 👍 semoga service nya terus baik dan tambah baik ⭐️⭐️⭐️⭐️⭐️\"\n",
        "stop = stopword.remove(kalimat)\n",
        "print(stop)"
      ],
      "metadata": {
        "colab": {
          "base_uri": "https://localhost:8080/"
        },
        "id": "cI7PaRcOKGyD",
        "outputId": "6df2bebb-626b-478b-fb2d-db89676715b9"
      },
      "execution_count": null,
      "outputs": [
        {
          "output_type": "stream",
          "name": "stdout",
          "text": [
            "Salahsatu tempat makan olahan seafood andalan ku. Rasanya pas, paling suka sama cuminya. Pelayanan tempat makan nya bagus. Sesuai lah kalo dpt bintang lima 👍 semoga service nya terus baik tambah baik ⭐️⭐️⭐️⭐️⭐️\n"
          ]
        }
      ]
    },
    {
      "cell_type": "code",
      "source": [
        "# >>>>> STEMMING <<<<< #\n",
        "\n",
        "# Stemming dengan sastrawi\n",
        "!pip install Sastrawi"
      ],
      "metadata": {
        "id": "xAgI8wp6OwT4"
      },
      "execution_count": null,
      "outputs": []
    },
    {
      "cell_type": "code",
      "source": [
        "# import StemmerFactory class\n",
        "from Sastrawi.Stemmer.StemmerFactory import StemmerFactory \n",
        "factory = StemmerFactory()\n",
        "stemmer = factory.create_stemmer()\n",
        "kalimat = 'Ini rasanya enak banget walaupun pesan tanpa MSG. Porsinya besar, jadi bisa dimakan rame-rame sekeluarga.'\n",
        "hasil = stemmer.stem(kalimat)\n",
        "print(hasil)"
      ],
      "metadata": {
        "colab": {
          "base_uri": "https://localhost:8080/"
        },
        "id": "e0Zwpg4TPaRv",
        "outputId": "3972b4cf-e851-4f04-aed3-0740d2f82b1b"
      },
      "execution_count": null,
      "outputs": [
        {
          "output_type": "stream",
          "name": "stdout",
          "text": [
            "ini rasa enak banget walaupun pesan tanpa msg porsi besar jadi bisa makan rame-rame keluarga\n"
          ]
        }
      ]
    }
  ]
}